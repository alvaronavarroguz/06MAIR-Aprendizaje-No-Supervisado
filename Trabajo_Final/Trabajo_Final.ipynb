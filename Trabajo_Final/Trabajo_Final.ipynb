{
 "cells": [
  {
   "cell_type": "markdown",
   "metadata": {},
   "source": [
    "## Uso y aplicación de los métodos de agrupamiento\n",
    "\n",
    "Aprendizaje no supervisado\n",
    "\n",
    "- Jaime \n",
    "- Jordi\n",
    "- Alvaro Navarro Guzmán"
   ]
  },
  {
   "cell_type": "code",
   "execution_count": 1,
   "metadata": {},
   "outputs": [],
   "source": [
    "from sklearn import preprocessing\n",
    "import numpy as np\n",
    "import pandas as pd\n",
    "import matplotlib.pyplot as plt\n",
    "import sklearn.metrics as metrics\n",
    "from sklearn.decomposition import PCA"
   ]
  },
  {
   "cell_type": "markdown",
   "metadata": {},
   "source": [
    "#### DataSet 1: Lung Disease\n",
    "\n",
    "The first 5 variables are all blood tests which are thought\n",
    "to be sensitive to liver disorders that might arise from\n",
    "excessive alcohol consumption.\n",
    "\n",
    "https://archive.ics.uci.edu/ml/datasets/liver+disorders"
   ]
  },
  {
   "cell_type": "code",
   "execution_count": 2,
   "metadata": {},
   "outputs": [
    {
     "data": {
      "text/html": [
       "<div>\n",
       "<style scoped>\n",
       "    .dataframe tbody tr th:only-of-type {\n",
       "        vertical-align: middle;\n",
       "    }\n",
       "\n",
       "    .dataframe tbody tr th {\n",
       "        vertical-align: top;\n",
       "    }\n",
       "\n",
       "    .dataframe thead th {\n",
       "        text-align: right;\n",
       "    }\n",
       "</style>\n",
       "<table border=\"1\" class=\"dataframe\">\n",
       "  <thead>\n",
       "    <tr style=\"text-align: right;\">\n",
       "      <th></th>\n",
       "      <th>Mean corpuscular volume</th>\n",
       "      <th>alkaline phosphotase</th>\n",
       "      <th>alanine aminotransferase</th>\n",
       "      <th>aspartate aminotransferase</th>\n",
       "      <th>gamma-glutamyl transpeptidase</th>\n",
       "      <th>half-pint aquivalents per day</th>\n",
       "    </tr>\n",
       "  </thead>\n",
       "  <tbody>\n",
       "    <tr>\n",
       "      <th>98</th>\n",
       "      <td>89</td>\n",
       "      <td>65</td>\n",
       "      <td>26</td>\n",
       "      <td>18</td>\n",
       "      <td>36</td>\n",
       "      <td>3.0</td>\n",
       "    </tr>\n",
       "    <tr>\n",
       "      <th>291</th>\n",
       "      <td>87</td>\n",
       "      <td>45</td>\n",
       "      <td>19</td>\n",
       "      <td>13</td>\n",
       "      <td>16</td>\n",
       "      <td>4.0</td>\n",
       "    </tr>\n",
       "    <tr>\n",
       "      <th>94</th>\n",
       "      <td>89</td>\n",
       "      <td>62</td>\n",
       "      <td>42</td>\n",
       "      <td>30</td>\n",
       "      <td>20</td>\n",
       "      <td>3.0</td>\n",
       "    </tr>\n",
       "    <tr>\n",
       "      <th>40</th>\n",
       "      <td>84</td>\n",
       "      <td>92</td>\n",
       "      <td>68</td>\n",
       "      <td>37</td>\n",
       "      <td>44</td>\n",
       "      <td>0.5</td>\n",
       "    </tr>\n",
       "    <tr>\n",
       "      <th>329</th>\n",
       "      <td>82</td>\n",
       "      <td>55</td>\n",
       "      <td>18</td>\n",
       "      <td>23</td>\n",
       "      <td>44</td>\n",
       "      <td>8.0</td>\n",
       "    </tr>\n",
       "  </tbody>\n",
       "</table>\n",
       "</div>"
      ],
      "text/plain": [
       "     Mean corpuscular volume  alkaline phosphotase  alanine aminotransferase  \\\n",
       "98                        89                    65                        26   \n",
       "291                       87                    45                        19   \n",
       "94                        89                    62                        42   \n",
       "40                        84                    92                        68   \n",
       "329                       82                    55                        18   \n",
       "\n",
       "     aspartate aminotransferase  gamma-glutamyl transpeptidase  \\\n",
       "98                           18                             36   \n",
       "291                          13                             16   \n",
       "94                           30                             20   \n",
       "40                           37                             44   \n",
       "329                          23                             44   \n",
       "\n",
       "     half-pint aquivalents per day  \n",
       "98                             3.0  \n",
       "291                            4.0  \n",
       "94                             3.0  \n",
       "40                             0.5  \n",
       "329                            8.0  "
      ]
     },
     "execution_count": 2,
     "metadata": {},
     "output_type": "execute_result"
    }
   ],
   "source": [
    "nms=[\"Mean corpuscular volume\", \"alkaline phosphotase\",\"alanine aminotransferase\", \"aspartate aminotransferase\",\n",
    "     \"gamma-glutamyl transpeptidase\",\"half-pint aquivalents per day\", \"split\"]\n",
    "\n",
    "lung=pd.read_table('DataSets/Liver_Disease.csv', sep=';', names =nms )\n",
    "\n",
    "#Eliminamos la variable \"etiqueta\" de este dataset y de esta forma transformamos el set de datos en uno en el que \n",
    "#desconocemos el agrupamiento.\n",
    "lung=lung.iloc[:,0:6]\n",
    "lung.sample(5)"
   ]
  },
  {
   "cell_type": "markdown",
   "metadata": {},
   "source": [
    "#### DataSet 2: Zoo Animals\n",
    "\n",
    "A simple database containing 17 Boolean-valued attributes.\n",
    "\n",
    "https://archive.ics.uci.edu/ml/datasets/zoo"
   ]
  },
  {
   "cell_type": "code",
   "execution_count": 3,
   "metadata": {},
   "outputs": [
    {
     "data": {
      "text/html": [
       "<div>\n",
       "<style scoped>\n",
       "    .dataframe tbody tr th:only-of-type {\n",
       "        vertical-align: middle;\n",
       "    }\n",
       "\n",
       "    .dataframe tbody tr th {\n",
       "        vertical-align: top;\n",
       "    }\n",
       "\n",
       "    .dataframe thead th {\n",
       "        text-align: right;\n",
       "    }\n",
       "</style>\n",
       "<table border=\"1\" class=\"dataframe\">\n",
       "  <thead>\n",
       "    <tr style=\"text-align: right;\">\n",
       "      <th></th>\n",
       "      <th>animal name</th>\n",
       "      <th>hair</th>\n",
       "      <th>feathers</th>\n",
       "      <th>eggs</th>\n",
       "      <th>milk</th>\n",
       "      <th>airborne</th>\n",
       "      <th>aquatic</th>\n",
       "      <th>predator</th>\n",
       "      <th>toothed</th>\n",
       "      <th>backbone</th>\n",
       "      <th>breathes</th>\n",
       "      <th>venomous</th>\n",
       "      <th>fins</th>\n",
       "      <th>legs</th>\n",
       "      <th>tail</th>\n",
       "      <th>domestic</th>\n",
       "      <th>catsize</th>\n",
       "      <th>type</th>\n",
       "    </tr>\n",
       "  </thead>\n",
       "  <tbody>\n",
       "    <tr>\n",
       "      <th>80</th>\n",
       "      <td>slowworm</td>\n",
       "      <td>0</td>\n",
       "      <td>0</td>\n",
       "      <td>1</td>\n",
       "      <td>0</td>\n",
       "      <td>0</td>\n",
       "      <td>0</td>\n",
       "      <td>1</td>\n",
       "      <td>1</td>\n",
       "      <td>1</td>\n",
       "      <td>1</td>\n",
       "      <td>0</td>\n",
       "      <td>0</td>\n",
       "      <td>0</td>\n",
       "      <td>1</td>\n",
       "      <td>0</td>\n",
       "      <td>0</td>\n",
       "      <td>3</td>\n",
       "    </tr>\n",
       "    <tr>\n",
       "      <th>69</th>\n",
       "      <td>raccoon</td>\n",
       "      <td>1</td>\n",
       "      <td>0</td>\n",
       "      <td>0</td>\n",
       "      <td>1</td>\n",
       "      <td>0</td>\n",
       "      <td>0</td>\n",
       "      <td>1</td>\n",
       "      <td>1</td>\n",
       "      <td>1</td>\n",
       "      <td>1</td>\n",
       "      <td>0</td>\n",
       "      <td>0</td>\n",
       "      <td>4</td>\n",
       "      <td>1</td>\n",
       "      <td>0</td>\n",
       "      <td>1</td>\n",
       "      <td>1</td>\n",
       "    </tr>\n",
       "    <tr>\n",
       "      <th>24</th>\n",
       "      <td>flea</td>\n",
       "      <td>0</td>\n",
       "      <td>0</td>\n",
       "      <td>1</td>\n",
       "      <td>0</td>\n",
       "      <td>0</td>\n",
       "      <td>0</td>\n",
       "      <td>0</td>\n",
       "      <td>0</td>\n",
       "      <td>0</td>\n",
       "      <td>1</td>\n",
       "      <td>0</td>\n",
       "      <td>0</td>\n",
       "      <td>6</td>\n",
       "      <td>0</td>\n",
       "      <td>0</td>\n",
       "      <td>0</td>\n",
       "      <td>6</td>\n",
       "    </tr>\n",
       "    <tr>\n",
       "      <th>58</th>\n",
       "      <td>penguin</td>\n",
       "      <td>0</td>\n",
       "      <td>1</td>\n",
       "      <td>1</td>\n",
       "      <td>0</td>\n",
       "      <td>0</td>\n",
       "      <td>1</td>\n",
       "      <td>1</td>\n",
       "      <td>0</td>\n",
       "      <td>1</td>\n",
       "      <td>1</td>\n",
       "      <td>0</td>\n",
       "      <td>0</td>\n",
       "      <td>2</td>\n",
       "      <td>1</td>\n",
       "      <td>0</td>\n",
       "      <td>1</td>\n",
       "      <td>2</td>\n",
       "    </tr>\n",
       "    <tr>\n",
       "      <th>1</th>\n",
       "      <td>antelope</td>\n",
       "      <td>1</td>\n",
       "      <td>0</td>\n",
       "      <td>0</td>\n",
       "      <td>1</td>\n",
       "      <td>0</td>\n",
       "      <td>0</td>\n",
       "      <td>0</td>\n",
       "      <td>1</td>\n",
       "      <td>1</td>\n",
       "      <td>1</td>\n",
       "      <td>0</td>\n",
       "      <td>0</td>\n",
       "      <td>4</td>\n",
       "      <td>1</td>\n",
       "      <td>0</td>\n",
       "      <td>1</td>\n",
       "      <td>1</td>\n",
       "    </tr>\n",
       "  </tbody>\n",
       "</table>\n",
       "</div>"
      ],
      "text/plain": [
       "   animal name  hair  feathers  eggs  milk  airborne  aquatic  predator  \\\n",
       "80    slowworm     0         0     1     0         0        0         1   \n",
       "69     raccoon     1         0     0     1         0        0         1   \n",
       "24        flea     0         0     1     0         0        0         0   \n",
       "58     penguin     0         1     1     0         0        1         1   \n",
       "1     antelope     1         0     0     1         0        0         0   \n",
       "\n",
       "    toothed  backbone  breathes  venomous  fins  legs  tail  domestic  \\\n",
       "80        1         1         1         0     0     0     1         0   \n",
       "69        1         1         1         0     0     4     1         0   \n",
       "24        0         0         1         0     0     6     0         0   \n",
       "58        0         1         1         0     0     2     1         0   \n",
       "1         1         1         1         0     0     4     1         0   \n",
       "\n",
       "    catsize  type  \n",
       "80        0     3  \n",
       "69        1     1  \n",
       "24        0     6  \n",
       "58        1     2  \n",
       "1         1     1  "
      ]
     },
     "execution_count": 3,
     "metadata": {},
     "output_type": "execute_result"
    }
   ],
   "source": [
    "zoo=pd.read_table('DataSets/Zoo_DataSet.csv', sep=';' , \n",
    "                  names = [\"animal name\", \"hair\", \"feathers\", \"eggs\",\"milk\", \"airborne\", \"aquatic\", \n",
    "                           \"predator\", \"toothed\", \"backbone\", \"breathes\",\"venomous\", \"fins\", \"legs\",\n",
    "                           \"tail\", \"domestic\", \"catsize\", \"type\" ])\n",
    "\n",
    "#Este será el set de datos del que conocemos el agrupamiento real\n",
    "zoo.sample(5)"
   ]
  },
  {
   "cell_type": "markdown",
   "metadata": {},
   "source": [
    "#### 0. PREPROCESADO"
   ]
  },
  {
   "cell_type": "code",
   "execution_count": 5,
   "metadata": {},
   "outputs": [
    {
     "name": "stderr",
     "output_type": "stream",
     "text": [
      "C:\\Users\\alvar\\Anaconda3\\envs\\VIU\\lib\\site-packages\\sklearn\\preprocessing\\data.py:625: DataConversionWarning: Data with input dtype int64, float64 were all converted to float64 by StandardScaler.\n",
      "  return self.partial_fit(X, y)\n",
      "C:\\Users\\alvar\\Anaconda3\\envs\\VIU\\lib\\site-packages\\sklearn\\base.py:462: DataConversionWarning: Data with input dtype int64, float64 were all converted to float64 by StandardScaler.\n",
      "  return self.fit(X, **fit_params).transform(X)\n"
     ]
    }
   ],
   "source": [
    "# DataSet 1: Enfermedad del pulmón\n",
    "####################################\n",
    "\n",
    "# Eliminamos las filas en las que haya algún NaN\n",
    "lung.dropna(inplace=True)\n",
    "#Estandarizamos las columnas del dataset\n",
    "standardizer = preprocessing.StandardScaler()\n",
    "lung_std = standardizer.fit_transform(lung)\n",
    "# Aplicamos una PCA para poder representar en 2D los atributos sobre los que aplicar las medidas de clustering\n",
    "pca = PCA()\n",
    "PCs_lung = pca.fit_transform(lung_std)\n",
    "principal_lung = pd.DataFrame(data = PCs_lung[:,:2], columns = ['PC 1', 'PC 2'])\n",
    "\n"
   ]
  },
  {
   "cell_type": "code",
   "execution_count": 6,
   "metadata": {},
   "outputs": [
    {
     "data": {
      "image/png": "[encoded data removed]",
      "text/plain": [
       "<Figure size 360x360 with 1 Axes>"
      ]
     },
     "metadata": {
      "needs_background": "light"
     },
     "output_type": "display_data"
    }
   ],
   "source": [
    "#Comprobamos la varianza acumulada por las PCs de la PCA\n",
    "fig, ax = plt.subplots(figsize=(5,5))\n",
    "plt.plot(np.cumsum(pca.explained_variance_ratio_), '-o')\n",
    "plt.xlabel('# Componentes Principales')\n",
    "plt.ylabel('Varianza acumulada');\n",
    "plt.show()"
   ]
  },
  {
   "cell_type": "code",
   "execution_count": 7,
   "metadata": {},
   "outputs": [
    {
     "data": {
      "image/png": "[encoded data removed]",
      "text/plain": [
       "<Figure size 1080x360 with 1 Axes>"
      ]
     },
     "metadata": {
      "needs_background": "light"
     },
     "output_type": "display_data"
    }
   ],
   "source": [
    "fig, ax = plt.subplots(figsize=(15,5))\n",
    "ax.scatter(PCs_lung[:,0],PCs_lung[:,1])\n",
    "ax.set_xlabel('PC 1', fontsize = 15)\n",
    "ax.set_ylabel('PC 2', fontsize = 15)\n",
    "ax.set_title('Lung Disease Database', fontsize = 20)\n",
    "plt.show()"
   ]
  },
  {
   "cell_type": "code",
   "execution_count": 9,
   "metadata": {},
   "outputs": [
    {
     "name": "stderr",
     "output_type": "stream",
     "text": [
      "C:\\Users\\alvar\\Anaconda3\\envs\\VIU\\lib\\site-packages\\sklearn\\preprocessing\\data.py:625: DataConversionWarning: Data with input dtype int64 were all converted to float64 by StandardScaler.\n",
      "  return self.partial_fit(X, y)\n",
      "C:\\Users\\alvar\\Anaconda3\\envs\\VIU\\lib\\site-packages\\sklearn\\base.py:462: DataConversionWarning: Data with input dtype int64 were all converted to float64 by StandardScaler.\n",
      "  return self.fit(X, **fit_params).transform(X)\n"
     ]
    }
   ],
   "source": [
    "# DataSet 2: Animales del Zoo\n",
    "#################################\n",
    "\n",
    "# Separamos la primera y la última columna del dataframe\n",
    "zoo_label=zoo.iloc[:,-1]\n",
    "zoo=zoo.iloc[:,1:-1]\n",
    "\n",
    "\n",
    "# Eliminamos las filas en las que haya algún NaN\n",
    "zoo.dropna(inplace=True)\n",
    "#Estandarizamos las columnas del dataset\n",
    "standardizer = preprocessing.StandardScaler()\n",
    "zoo_std = standardizer.fit_transform(zoo)\n",
    "# Aplicamos una PCA para poder representar en 2D los atributos sobre los que aplicar las medidas de clustering\n",
    "pca = PCA()\n",
    "PCs_zoo = pca.fit_transform(zoo_std)\n",
    "principal_zoo = pd.DataFrame(data = PCs_zoo[:,:2], columns = ['PC 1', 'PC 2'])\n",
    "\n"
   ]
  },
  {
   "cell_type": "code",
   "execution_count": 10,
   "metadata": {},
   "outputs": [
    {
     "data": {
      "image/png": "[encoded data removed]",
      "text/plain": [
       "<Figure size 360x360 with 1 Axes>"
      ]
     },
     "metadata": {
      "needs_background": "light"
     },
     "output_type": "display_data"
    }
   ],
   "source": [
    "#Comprobamos la varianza acumulada por las PCs de la PCA\n",
    "fig, ax = plt.subplots(figsize=(5,5))\n",
    "plt.plot(np.cumsum(pca.explained_variance_ratio_), '-o')\n",
    "plt.xlabel('# Componentes Principales')\n",
    "plt.ylabel('Varianza acumulada');\n",
    "plt.show()"
   ]
  },
  {
   "cell_type": "code",
   "execution_count": 12,
   "metadata": {},
   "outputs": [
    {
     "data": {
      "image/png": "[encoded data removed]",
      "text/plain": [
       "<Figure size 1080x360 with 1 Axes>"
      ]
     },
     "metadata": {
      "needs_background": "light"
     },
     "output_type": "display_data"
    }
   ],
   "source": [
    "fig, ax = plt.subplots(figsize=(15,5))\n",
    "ax.scatter(PCs_zoo[:,0],PCs_zoo[:,1])\n",
    "ax.set_xlabel('PC 1', fontsize = 15)\n",
    "ax.set_ylabel('PC 2', fontsize = 15)\n",
    "ax.set_title('Zoo Animals Database', fontsize = 20)\n",
    "plt.show()"
   ]
  },
  {
   "cell_type": "markdown",
   "metadata": {},
   "source": [
    "#### 1. AGRUPAMIENTO POR PARTICIONES"
   ]
  },
  {
   "cell_type": "markdown",
   "metadata": {},
   "source": [
    "#### 2. AGRUPAMIENTO JERÁRQUICO"
   ]
  },
  {
   "cell_type": "markdown",
   "metadata": {},
   "source": [
    "#### 3. AGRUPAMIENTO ESPECTRAL"
   ]
  },
  {
   "cell_type": "code",
   "execution_count": 15,
   "metadata": {},
   "outputs": [],
   "source": [
    "#datos Lung: PCs_lung\n",
    "#datos Zoo: PCs_zoo, zoo_label"
   ]
  },
  {
   "cell_type": "markdown",
   "metadata": {},
   "source": [
    "#### 4. AGRUPAMIENTO POR DENSIDAD"
   ]
  },
  {
   "cell_type": "markdown",
   "metadata": {},
   "source": [
    "#### 5. AGRUPAMIENTO PROBABILÍSTICO"
   ]
  },
  {
   "cell_type": "code",
   "execution_count": null,
   "metadata": {},
   "outputs": [],
   "source": []
  }
 ],
 "metadata": {
  "kernelspec": {
   "display_name": "Python 3",
   "language": "python",
   "name": "python3"
  },
  "language_info": {
   "codemirror_mode": {
    "name": "ipython",
    "version": 3
   },
   "file_extension": ".py",
   "mimetype": "text/x-python",
   "name": "python",
   "nbconvert_exporter": "python",
   "pygments_lexer": "ipython3",
   "version": "3.6.7"
  }
 },
 "nbformat": 4,
 "nbformat_minor": 2
}
