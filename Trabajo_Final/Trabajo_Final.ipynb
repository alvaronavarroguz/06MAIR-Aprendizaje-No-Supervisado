{
 "cells": [
  {
   "cell_type": "markdown",
   "metadata": {},
   "source": [
    "## Uso y aplicación de los métodos de agrupamiento\n",
    "\n",
    "Aprendizaje no supervisado\n",
    "\n",
    "- Jaime Díaz González (coordinador)\n",
    "- Jordi (secretario)\n",
    "- Alvaro Navarro Guzmán (revisor)"
   ]
  },
  {
   "cell_type": "code",
   "execution_count": 13,
   "metadata": {},
   "outputs": [],
   "source": [
    "from sklearn import preprocessing\n",
    "import numpy as np\n",
    "import pandas as pd\n",
    "import matplotlib.pyplot as plt\n",
    "import sklearn.metrics as metrics\n",
    "from sklearn.decomposition import PCA"
   ]
  },
  {
   "cell_type": "markdown",
   "metadata": {},
   "source": [
    "#### DataSet 1: Lung Disease\n",
    "\n",
    "The first 5 variables are all blood tests which are thought\n",
    "to be sensitive to liver disorders that might arise from\n",
    "excessive alcohol consumption.\n",
    "\n",
    "https://archive.ics.uci.edu/ml/datasets/liver+disorders"
   ]
  },
  {
   "cell_type": "code",
   "execution_count": 14,
   "metadata": {},
   "outputs": [
    {
     "data": {
      "text/html": [
       "<div>\n",
       "<style scoped>\n",
       "    .dataframe tbody tr th:only-of-type {\n",
       "        vertical-align: middle;\n",
       "    }\n",
       "\n",
       "    .dataframe tbody tr th {\n",
       "        vertical-align: top;\n",
       "    }\n",
       "\n",
       "    .dataframe thead th {\n",
       "        text-align: right;\n",
       "    }\n",
       "</style>\n",
       "<table border=\"1\" class=\"dataframe\">\n",
       "  <thead>\n",
       "    <tr style=\"text-align: right;\">\n",
       "      <th></th>\n",
       "      <th>Mean corpuscular volume</th>\n",
       "      <th>alkaline phosphotase</th>\n",
       "      <th>alanine aminotransferase</th>\n",
       "      <th>aspartate aminotransferase</th>\n",
       "      <th>gamma-glutamyl transpeptidase</th>\n",
       "      <th>half-pint aquivalents per day</th>\n",
       "    </tr>\n",
       "  </thead>\n",
       "  <tbody>\n",
       "    <tr>\n",
       "      <th>227</th>\n",
       "      <td>86</td>\n",
       "      <td>78</td>\n",
       "      <td>52</td>\n",
       "      <td>29</td>\n",
       "      <td>62</td>\n",
       "      <td>0.5</td>\n",
       "    </tr>\n",
       "    <tr>\n",
       "      <th>323</th>\n",
       "      <td>85</td>\n",
       "      <td>50</td>\n",
       "      <td>12</td>\n",
       "      <td>18</td>\n",
       "      <td>14</td>\n",
       "      <td>7.0</td>\n",
       "    </tr>\n",
       "    <tr>\n",
       "      <th>30</th>\n",
       "      <td>86</td>\n",
       "      <td>79</td>\n",
       "      <td>28</td>\n",
       "      <td>16</td>\n",
       "      <td>17</td>\n",
       "      <td>0.5</td>\n",
       "    </tr>\n",
       "    <tr>\n",
       "      <th>27</th>\n",
       "      <td>88</td>\n",
       "      <td>66</td>\n",
       "      <td>20</td>\n",
       "      <td>21</td>\n",
       "      <td>10</td>\n",
       "      <td>0.5</td>\n",
       "    </tr>\n",
       "    <tr>\n",
       "      <th>273</th>\n",
       "      <td>90</td>\n",
       "      <td>55</td>\n",
       "      <td>20</td>\n",
       "      <td>20</td>\n",
       "      <td>16</td>\n",
       "      <td>3.0</td>\n",
       "    </tr>\n",
       "  </tbody>\n",
       "</table>\n",
       "</div>"
      ],
      "text/plain": [
       "     Mean corpuscular volume  alkaline phosphotase  alanine aminotransferase  \\\n",
       "227                       86                    78                        52   \n",
       "323                       85                    50                        12   \n",
       "30                        86                    79                        28   \n",
       "27                        88                    66                        20   \n",
       "273                       90                    55                        20   \n",
       "\n",
       "     aspartate aminotransferase  gamma-glutamyl transpeptidase  \\\n",
       "227                          29                             62   \n",
       "323                          18                             14   \n",
       "30                           16                             17   \n",
       "27                           21                             10   \n",
       "273                          20                             16   \n",
       "\n",
       "     half-pint aquivalents per day  \n",
       "227                            0.5  \n",
       "323                            7.0  \n",
       "30                             0.5  \n",
       "27                             0.5  \n",
       "273                            3.0  "
      ]
     },
     "execution_count": 14,
     "metadata": {},
     "output_type": "execute_result"
    }
   ],
   "source": [
    "nms=[\"Mean corpuscular volume\", \"alkaline phosphotase\",\"alanine aminotransferase\", \"aspartate aminotransferase\",\n",
    "     \"gamma-glutamyl transpeptidase\",\"half-pint aquivalents per day\", \"split\"]\n",
    "\n",
    "lung=pd.read_table('DataSets/Liver_Disease.csv', sep=';', names =nms )\n",
    "\n",
    "#Eliminamos la variable \"etiqueta\" de este dataset y de esta forma transformamos el set de datos en uno en el que \n",
    "#desconocemos el agrupamiento.\n",
    "lung=lung.iloc[:,0:6]\n",
    "lung.sample(5)"
   ]
  },
  {
   "cell_type": "markdown",
   "metadata": {},
   "source": [
    "#### DataSet 2: Zoo Animals\n",
    "\n",
    "A simple database containing 17 Boolean-valued attributes.\n",
    "\n",
    "https://archive.ics.uci.edu/ml/datasets/zoo"
   ]
  },
  {
   "cell_type": "code",
   "execution_count": 15,
   "metadata": {},
   "outputs": [
    {
     "data": {
      "text/html": [
       "<div>\n",
       "<style scoped>\n",
       "    .dataframe tbody tr th:only-of-type {\n",
       "        vertical-align: middle;\n",
       "    }\n",
       "\n",
       "    .dataframe tbody tr th {\n",
       "        vertical-align: top;\n",
       "    }\n",
       "\n",
       "    .dataframe thead th {\n",
       "        text-align: right;\n",
       "    }\n",
       "</style>\n",
       "<table border=\"1\" class=\"dataframe\">\n",
       "  <thead>\n",
       "    <tr style=\"text-align: right;\">\n",
       "      <th></th>\n",
       "      <th>animal name</th>\n",
       "      <th>hair</th>\n",
       "      <th>feathers</th>\n",
       "      <th>eggs</th>\n",
       "      <th>milk</th>\n",
       "      <th>airborne</th>\n",
       "      <th>aquatic</th>\n",
       "      <th>predator</th>\n",
       "      <th>toothed</th>\n",
       "      <th>backbone</th>\n",
       "      <th>breathes</th>\n",
       "      <th>venomous</th>\n",
       "      <th>fins</th>\n",
       "      <th>legs</th>\n",
       "      <th>tail</th>\n",
       "      <th>domestic</th>\n",
       "      <th>catsize</th>\n",
       "      <th>type</th>\n",
       "    </tr>\n",
       "  </thead>\n",
       "  <tbody>\n",
       "    <tr>\n",
       "      <th>55</th>\n",
       "      <td>oryx</td>\n",
       "      <td>1</td>\n",
       "      <td>0</td>\n",
       "      <td>0</td>\n",
       "      <td>1</td>\n",
       "      <td>0</td>\n",
       "      <td>0</td>\n",
       "      <td>0</td>\n",
       "      <td>1</td>\n",
       "      <td>1</td>\n",
       "      <td>1</td>\n",
       "      <td>0</td>\n",
       "      <td>0</td>\n",
       "      <td>4</td>\n",
       "      <td>1</td>\n",
       "      <td>0</td>\n",
       "      <td>1</td>\n",
       "      <td>1</td>\n",
       "    </tr>\n",
       "    <tr>\n",
       "      <th>89</th>\n",
       "      <td>toad</td>\n",
       "      <td>0</td>\n",
       "      <td>0</td>\n",
       "      <td>1</td>\n",
       "      <td>0</td>\n",
       "      <td>0</td>\n",
       "      <td>1</td>\n",
       "      <td>0</td>\n",
       "      <td>1</td>\n",
       "      <td>1</td>\n",
       "      <td>1</td>\n",
       "      <td>0</td>\n",
       "      <td>0</td>\n",
       "      <td>4</td>\n",
       "      <td>0</td>\n",
       "      <td>0</td>\n",
       "      <td>0</td>\n",
       "      <td>5</td>\n",
       "    </tr>\n",
       "    <tr>\n",
       "      <th>96</th>\n",
       "      <td>wallaby</td>\n",
       "      <td>1</td>\n",
       "      <td>0</td>\n",
       "      <td>0</td>\n",
       "      <td>1</td>\n",
       "      <td>0</td>\n",
       "      <td>0</td>\n",
       "      <td>0</td>\n",
       "      <td>1</td>\n",
       "      <td>1</td>\n",
       "      <td>1</td>\n",
       "      <td>0</td>\n",
       "      <td>0</td>\n",
       "      <td>2</td>\n",
       "      <td>1</td>\n",
       "      <td>0</td>\n",
       "      <td>1</td>\n",
       "      <td>1</td>\n",
       "    </tr>\n",
       "    <tr>\n",
       "      <th>69</th>\n",
       "      <td>raccoon</td>\n",
       "      <td>1</td>\n",
       "      <td>0</td>\n",
       "      <td>0</td>\n",
       "      <td>1</td>\n",
       "      <td>0</td>\n",
       "      <td>0</td>\n",
       "      <td>1</td>\n",
       "      <td>1</td>\n",
       "      <td>1</td>\n",
       "      <td>1</td>\n",
       "      <td>0</td>\n",
       "      <td>0</td>\n",
       "      <td>4</td>\n",
       "      <td>1</td>\n",
       "      <td>0</td>\n",
       "      <td>1</td>\n",
       "      <td>1</td>\n",
       "    </tr>\n",
       "    <tr>\n",
       "      <th>32</th>\n",
       "      <td>gorilla</td>\n",
       "      <td>1</td>\n",
       "      <td>0</td>\n",
       "      <td>0</td>\n",
       "      <td>1</td>\n",
       "      <td>0</td>\n",
       "      <td>0</td>\n",
       "      <td>0</td>\n",
       "      <td>1</td>\n",
       "      <td>1</td>\n",
       "      <td>1</td>\n",
       "      <td>0</td>\n",
       "      <td>0</td>\n",
       "      <td>2</td>\n",
       "      <td>0</td>\n",
       "      <td>0</td>\n",
       "      <td>1</td>\n",
       "      <td>1</td>\n",
       "    </tr>\n",
       "  </tbody>\n",
       "</table>\n",
       "</div>"
      ],
      "text/plain": [
       "   animal name  hair  feathers  eggs  milk  airborne  aquatic  predator  \\\n",
       "55        oryx     1         0     0     1         0        0         0   \n",
       "89        toad     0         0     1     0         0        1         0   \n",
       "96     wallaby     1         0     0     1         0        0         0   \n",
       "69     raccoon     1         0     0     1         0        0         1   \n",
       "32     gorilla     1         0     0     1         0        0         0   \n",
       "\n",
       "    toothed  backbone  breathes  venomous  fins  legs  tail  domestic  \\\n",
       "55        1         1         1         0     0     4     1         0   \n",
       "89        1         1         1         0     0     4     0         0   \n",
       "96        1         1         1         0     0     2     1         0   \n",
       "69        1         1         1         0     0     4     1         0   \n",
       "32        1         1         1         0     0     2     0         0   \n",
       "\n",
       "    catsize  type  \n",
       "55        1     1  \n",
       "89        0     5  \n",
       "96        1     1  \n",
       "69        1     1  \n",
       "32        1     1  "
      ]
     },
     "execution_count": 15,
     "metadata": {},
     "output_type": "execute_result"
    }
   ],
   "source": [
    "zoo=pd.read_table('DataSets/Zoo_DataSet.csv', sep=';' , \n",
    "                  names = [\"animal name\", \"hair\", \"feathers\", \"eggs\",\"milk\", \"airborne\", \"aquatic\", \n",
    "                           \"predator\", \"toothed\", \"backbone\", \"breathes\",\"venomous\", \"fins\", \"legs\",\n",
    "                           \"tail\", \"domestic\", \"catsize\", \"type\" ])\n",
    "\n",
    "#Este será el set de datos del que conocemos el agrupamiento real\n",
    "zoo.sample(5)"
   ]
  },
  {
   "cell_type": "markdown",
   "metadata": {},
   "source": [
    "#### 0. PREPROCESADO"
   ]
  },
  {
   "cell_type": "code",
   "execution_count": 16,
   "metadata": {},
   "outputs": [],
   "source": [
    "# DataSet 1: Enfermedad del pulmón\n",
    "####################################\n",
    "\n",
    "# Eliminamos las filas en las que haya algún NaN\n",
    "lung.dropna(inplace=True)\n",
    "#Estandarizamos las columnas del dataset\n",
    "standardizer = preprocessing.StandardScaler()\n",
    "lung_std = standardizer.fit_transform(lung)\n",
    "# Aplicamos una PCA para poder representar en 2D los atributos sobre los que aplicar las medidas de clustering\n",
    "pca = PCA()\n",
    "PCs_lung = pca.fit_transform(lung_std)\n",
    "principal_lung = pd.DataFrame(data = PCs_lung[:,:2], columns = ['PC 1', 'PC 2'])\n",
    "\n"
   ]
  },
  {
   "cell_type": "code",
   "execution_count": 17,
   "metadata": {},
   "outputs": [
    {
     "data": {
      "image/png": "[encoded data removed]",
      "text/plain": [
       "<Figure size 360x360 with 1 Axes>"
      ]
     },
     "metadata": {
      "needs_background": "light"
     },
     "output_type": "display_data"
    }
   ],
   "source": [
    "#Comprobamos la varianza acumulada por las PCs de la PCA\n",
    "fig, ax = plt.subplots(figsize=(5,5))\n",
    "plt.plot(np.cumsum(pca.explained_variance_ratio_), '-o')\n",
    "plt.xlabel('# Componentes Principales')\n",
    "plt.ylabel('Varianza acumulada');\n",
    "plt.show()"
   ]
  },
  {
   "cell_type": "code",
   "execution_count": 18,
   "metadata": {},
   "outputs": [
    {
     "data": {
      "image/png": "[encoded data removed]",
      "text/plain": [
       "<Figure size 1080x360 with 1 Axes>"
      ]
     },
     "metadata": {
      "needs_background": "light"
     },
     "output_type": "display_data"
    }
   ],
   "source": [
    "fig, ax = plt.subplots(figsize=(15,5))\n",
    "ax.scatter(PCs_lung[:,0],PCs_lung[:,1])\n",
    "ax.set_xlabel('PC 1', fontsize = 15)\n",
    "ax.set_ylabel('PC 2', fontsize = 15)\n",
    "ax.set_title('Lung Disease Database', fontsize = 20)\n",
    "plt.show()"
   ]
  },
  {
   "cell_type": "code",
   "execution_count": 19,
   "metadata": {},
   "outputs": [],
   "source": [
    "# DataSet 2: Animales del Zoo\n",
    "#################################\n",
    "\n",
    "# Separamos la primera y la última columna del dataframe\n",
    "zoo_label=zoo.iloc[:,-1]\n",
    "zoo=zoo.iloc[:,1:-1]\n",
    "\n",
    "\n",
    "# Eliminamos las filas en las que haya algún NaN\n",
    "zoo.dropna(inplace=True)\n",
    "#Estandarizamos las columnas del dataset\n",
    "standardizer = preprocessing.StandardScaler()\n",
    "zoo_std = standardizer.fit_transform(zoo)\n",
    "# Aplicamos una PCA para poder representar en 2D los atributos sobre los que aplicar las medidas de clustering\n",
    "pca = PCA()\n",
    "PCs_zoo = pca.fit_transform(zoo_std)\n",
    "principal_zoo = pd.DataFrame(data = PCs_zoo[:,:2], columns = ['PC 1', 'PC 2'])\n",
    "\n"
   ]
  },
  {
   "cell_type": "code",
   "execution_count": 20,
   "metadata": {},
   "outputs": [
    {
     "data": {
      "image/png": "[encoded data removed]",
      "text/plain": [
       "<Figure size 360x360 with 1 Axes>"
      ]
     },
     "metadata": {
      "needs_background": "light"
     },
     "output_type": "display_data"
    }
   ],
   "source": [
    "#Comprobamos la varianza acumulada por las PCs de la PCA\n",
    "fig, ax = plt.subplots(figsize=(5,5))\n",
    "plt.plot(np.cumsum(pca.explained_variance_ratio_), '-o')\n",
    "plt.xlabel('# Componentes Principales')\n",
    "plt.ylabel('Varianza acumulada');\n",
    "plt.show()"
   ]
  },
  {
   "cell_type": "code",
   "execution_count": 21,
   "metadata": {},
   "outputs": [
    {
     "data": {
      "image/png": "[encoded data removed]",
      "text/plain": [
       "<Figure size 1080x360 with 1 Axes>"
      ]
     },
     "metadata": {
      "needs_background": "light"
     },
     "output_type": "display_data"
    }
   ],
   "source": [
    "fig, ax = plt.subplots(figsize=(15,5))\n",
    "ax.scatter(PCs_zoo[:,0],PCs_zoo[:,1])\n",
    "ax.set_xlabel('PC 1', fontsize = 15)\n",
    "ax.set_ylabel('PC 2', fontsize = 15)\n",
    "ax.set_title('Zoo Animals Database', fontsize = 20)\n",
    "plt.show()"
   ]
  },
  {
   "cell_type": "markdown",
   "metadata": {},
   "source": [
    "#### 1. Evaluación extrínseca"
   ]
  },
  {
   "cell_type": "code",
   "execution_count": 22,
   "metadata": {},
   "outputs": [],
   "source": [
    "def medida_precision(mat, l, k):\n",
    "    return mat[l,k]/float(np.sum(mat[:,k]))\n",
    "\n",
    "def medida_recall(mat, l, k):\n",
    "    return mat[l,k]/float(np.sum(mat[l,:]))\n",
    "\n",
    "def medida_f1_especifica(mat, l, k):\n",
    "    prec = medida_precision(mat, l, k)\n",
    "    rec = medida_recall(mat, l, k)\n",
    "    if (prec+rec)==0:\n",
    "        return 0\n",
    "    if np.isnan(rec):\n",
    "        return 0\n",
    "    else:\n",
    "        return 2*prec*rec/(prec+rec)\n",
    "\n",
    "def medida_f1(mat):\n",
    "    totales = np.sum(mat,1)/float(np.sum(mat))\n",
    "    assign = np.sum([totales[l] * np.max([medida_f1_especifica(mat, l, k) \n",
    "                                          for k in np.arange(mat.shape[1])]) \n",
    "                     for l in np.arange(mat.shape[0])])\n",
    "    return assign\n",
    "\n",
    "def medida_pureza(mat):\n",
    "    totales = np.sum(mat,0)/float(np.sum(mat))\n",
    "    return np.sum([totales[k] * np.max(mat[:,k]/float(np.sum(mat[:,k]))) for k in np.arange(mat.shape[1])])\n",
    "\n",
    "def medida_error(mat):\n",
    "    assign = np.sum([np.max(mat[l,:]) for l in np.arange(mat.shape[0])])\n",
    "    return 1 - assign / float(np.sum(mat))"
   ]
  },
  {
   "cell_type": "markdown",
   "metadata": {},
   "source": [
    "#### 2, Evaluación intrínseca"
   ]
  },
  {
   "cell_type": "code",
   "execution_count": null,
   "metadata": {},
   "outputs": [],
   "source": []
  },
  {
   "cell_type": "markdown",
   "metadata": {},
   "source": [
    "#### 3. AGRUPAMIENTO POR PARTICIONES"
   ]
  },
  {
   "cell_type": "markdown",
   "metadata": {},
   "source": [
    "#### 4. AGRUPAMIENTO JERÁRQUICO"
   ]
  },
  {
   "cell_type": "markdown",
   "metadata": {},
   "source": [
    "#### 5. AGRUPAMIENTO ESPECTRAL"
   ]
  },
  {
   "cell_type": "code",
   "execution_count": 23,
   "metadata": {},
   "outputs": [],
   "source": [
    "#datos Lung: PCs_lung\n",
    "#datos Zoo: PCs_zoo, zoo_label"
   ]
  },
  {
   "cell_type": "markdown",
   "metadata": {},
   "source": [
    "#### 6. AGRUPAMIENTO POR DENSIDAD"
   ]
  },
  {
   "cell_type": "code",
   "execution_count": 25,
   "metadata": {},
   "outputs": [
    {
     "name": "stdout",
     "output_type": "stream",
     "text": [
      "El valor del error cometido es =  0.7326732673267327\n",
      "La pureza del agrupamiento =  1.0\n",
      "La medida F1 =  0.41730963012267613\n"
     ]
    },
    {
     "name": "stderr",
     "output_type": "stream",
     "text": [
      "C:\\Users\\jdiazgon\\AppData\\Local\\Continuum\\anaconda3\\lib\\site-packages\\ipykernel_launcher.py:5: RuntimeWarning: invalid value encountered in true_divide\n",
      "  \"\"\"\n"
     ]
    },
    {
     "data": {
      "image/png": "[encoded data removed]",
      "text/plain": [
       "<Figure size 1440x360 with 2 Axes>"
      ]
     },
     "metadata": {
      "needs_background": "light"
     },
     "output_type": "display_data"
    }
   ],
   "source": [
    "# Vamos a utilizar el método de desplazamiento de media\n",
    "from sklearn.cluster import MeanShift\n",
    "from sklearn.metrics import confusion_matrix\n",
    "\n",
    "h = 1\n",
    "\n",
    "clustering = MeanShift(bandwidth = h).fit(PCs_zoo)\n",
    "\n",
    "# Necesito sumar 1 porque el etiquetado predicho empieza incorrectamente por 0\n",
    "clustering.labels_  = clustering.labels_ + 1\n",
    "\n",
    "# Mostrar resultados\n",
    "fig, ax = plt.subplots(1,2,figsize=(20,5))\n",
    "ax[0].set_title('Clustering real')\n",
    "ax[0].scatter(PCs_zoo[:,0], PCs_zoo[:,1], c = zoo_label)\n",
    "ax[1].set_title('Clustering predicho')\n",
    "ax[1].scatter(PCs_zoo[:,0], PCs_zoo[:,1], c = clustering.labels_)\n",
    "\n",
    "# Calculamos la matriz de confusión\n",
    "mC = confusion_matrix(zoo_label, clustering.labels_)\n",
    "\n",
    "    \n",
    "print('El valor del error cometido es = ', medida_error(mC))\n",
    "print('La pureza del agrupamiento = ', medida_pureza(mC))\n",
    "print('La medida F1 = ', medida_f1(mC))"
   ]
  },
  {
   "cell_type": "markdown",
   "metadata": {},
   "source": [
    "#### 7. AGRUPAMIENTO PROBABILÍSTICO"
   ]
  },
  {
   "cell_type": "code",
   "execution_count": null,
   "metadata": {},
   "outputs": [],
   "source": []
  }
 ],
 "metadata": {
  "kernelspec": {
   "display_name": "Python 3",
   "language": "python",
   "name": "python3"
  },
  "language_info": {
   "codemirror_mode": {
    "name": "ipython",
    "version": 3
   },
   "file_extension": ".py",
   "mimetype": "text/x-python",
   "name": "python",
   "nbconvert_exporter": "python",
   "pygments_lexer": "ipython3",
   "version": "3.7.0"
  }
 },
 "nbformat": 4,
 "nbformat_minor": 2
}
